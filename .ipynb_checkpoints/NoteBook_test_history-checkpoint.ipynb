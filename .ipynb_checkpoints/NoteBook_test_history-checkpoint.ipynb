{
 "cells": [
  {
   "cell_type": "code",
   "execution_count": 6,
   "metadata": {},
   "outputs": [
    {
     "name": "stdout",
     "output_type": "stream",
     "text": [
      "Processor:  Intel64 Family 6 Model 30 Stepping 5, GenuineIntel\n",
      "Cores:  8 ;RAM: 7G\n",
      "Items: [###-------------------------------------] 6.96%  remained 13:01:10.276750m Traceback (most recent call last):\n",
      "  File \"C:\\Users\\Bolt Hold\\source\\repos\\History\\Job\\main.py\", line 73, in testing\n",
      "    jobs.append(test.set_history(np.random.randint(0,10,500),np.random.sample()))\n",
      "  File \"C:\\Users\\Bolt Hold\\source\\repos\\History\\Job\\history.py\", line 47, in set_history\n",
      "    right =  xxh32()\n",
      "  File \"<__array_function__ internals>\", line 6, in append\n",
      "  File \"C:\\ProgramData\\Anaconda3\\envs\\terra-dev\\lib\\site-packages\\numpy\\lib\\function_base.py\", line 4671, in append\n",
      "    return concatenate((arr, values), axis=axis)\n",
      "  File \"<__array_function__ internals>\", line 6, in concatenate\n",
      "KeyboardInterrupt\n",
      "\n"
     ]
    }
   ],
   "source": [
    "from Job.main import *\n",
    "\n",
    "testing(1048576000,'history.bin')"
   ]
  },
  {
   "cell_type": "code",
   "execution_count": 3,
   "metadata": {},
   "outputs": [
    {
     "name": "stdout",
     "output_type": "stream",
     "text": [
      "Load history and continue...\n",
      "Items: [----------------------------------------] 0.15%  remained 0:00:31.171875m  9750m  Traceback (most recent call last):\n",
      "  File \"C:\\Users\\Bolt Hold\\source\\repos\\History\\Job\\main.py\", line 73, in testing\n",
      "    a = process_time()\n",
      "  File \"C:\\Users\\Bolt Hold\\source\\repos\\History\\Job\\history.py\", line 47, in set_history\n",
      "    self.history_arr =np.append(self.history_arr,sequence)\n",
      "  File \"<__array_function__ internals>\", line 6, in append\n",
      "  File \"C:\\ProgramData\\Anaconda3\\envs\\terra-dev\\lib\\site-packages\\numpy\\lib\\function_base.py\", line 4671, in append\n",
      "    return concatenate((arr, values), axis=axis)\n",
      "  File \"<__array_function__ internals>\", line 6, in concatenate\n",
      "KeyboardInterrupt\n",
      "\n"
     ]
    }
   ],
   "source": [
    "testing(6291456000,'history.bin',True)"
   ]
  },
  {
   "cell_type": "code",
   "execution_count": null,
   "metadata": {},
   "outputs": [],
   "source": []
  },
  {
   "cell_type": "code",
   "execution_count": null,
   "metadata": {},
   "outputs": [],
   "source": []
  },
  {
   "cell_type": "code",
   "execution_count": null,
   "metadata": {},
   "outputs": [],
   "source": []
  }
 ],
 "metadata": {
  "kernelspec": {
   "display_name": "Python 3",
   "language": "python",
   "name": "python3"
  },
  "language_info": {
   "codemirror_mode": {
    "name": "ipython",
    "version": 3
   },
   "file_extension": ".py",
   "mimetype": "text/x-python",
   "name": "python",
   "nbconvert_exporter": "python",
   "pygments_lexer": "ipython3",
   "version": "3.7.7"
  }
 },
 "nbformat": 4,
 "nbformat_minor": 4
}
